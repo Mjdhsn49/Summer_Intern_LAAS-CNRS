{
 "cells": [
  {
   "cell_type": "markdown",
   "metadata": {},
   "source": [
    "# Model for deploying "
   ]
  },
  {
   "cell_type": "code",
   "execution_count": 1,
   "metadata": {},
   "outputs": [
    {
     "name": "stderr",
     "output_type": "stream",
     "text": [
      "Using TensorFlow backend.\n"
     ]
    }
   ],
   "source": [
    "import warnings\n",
    "warnings.filterwarnings(\"ignore\")\n",
    "\n",
    "import numpy as np\n",
    "#import keras\n",
    "from keras import backend as k\n",
    "from keras.models import Sequential\n",
    "from keras.layers import Activation\n",
    "from keras.layers.core import Dense,Flatten,Dropout\n",
    "from keras.optimizers import Adam, RMSprop,SGD\n",
    "from keras.metrics import categorical_crossentropy\n",
    "from keras.preprocessing.image import ImageDataGenerator\n",
    "from keras.layers.normalization import BatchNormalization\n",
    "from keras.layers.convolutional import *\n",
    "from matplotlib import pyplot as plt\n",
    "from sklearn.metrics import confusion_matrix\n",
    "import matplotlib.pyplot as plt\n",
    "import itertools\n",
    "from IPython.display import display\n",
    "from PIL import Image\n",
    "%matplotlib inline"
   ]
  },
  {
   "cell_type": "code",
   "execution_count": 2,
   "metadata": {},
   "outputs": [],
   "source": [
    "#Assigning paths\n",
    "train_path = '../Dataset/train/'\n",
    "valid_path = '../Dataset/validation/'\n",
    "test_path = '../Dataset/test/'"
   ]
  },
  {
   "cell_type": "code",
   "execution_count": 11,
   "metadata": {},
   "outputs": [
    {
     "name": "stdout",
     "output_type": "stream",
     "text": [
      "Found 11200 images belonging to 7 classes.\n",
      "Found 2800 images belonging to 7 classes.\n",
      "Found 70 images belonging to 7 classes.\n"
     ]
    }
   ],
   "source": [
    "train_datagen = ImageDataGenerator(\n",
    "      \n",
    "       rotation_range=20,\n",
    "       width_shift_range=0.2,\n",
    "       height_shift_range=0.2,\n",
    "       horizontal_flip=True,\n",
    "       fill_mode='nearest'\n",
    ")\n",
    " \n",
    "validation_datagen = ImageDataGenerator()\n",
    " \n",
    "# Change the batchsize according to your system RAM\n",
    "train_batchsize = 16\n",
    "val_batchsize = 16\n",
    "test_batchsize = 10\n",
    "train_generator = train_datagen.flow_from_directory(\n",
    "        train_path,\n",
    "        target_size=(256, 256),\n",
    "        batch_size=train_batchsize,\n",
    "        classes =['Black_Measles','Blackrot','Isariopsis',\"MDB_disease\",\"No_disease\",\"Spyder\",\"mildiou\"]\n",
    "        )\n",
    " \n",
    "validation_generator = validation_datagen.flow_from_directory(\n",
    "        valid_path,\n",
    "        target_size=(256, 256),\n",
    "        batch_size=val_batchsize,\n",
    "        classes=['Black_Measles','Blackrot','Isariopsis',\"MDB_disease\",\"No_disease\",\"Spyder\",\"mildiou\"]\n",
    "        ,\n",
    "        shuffle=True)\n",
    "test_generator = validation_datagen.flow_from_directory(test_path,\n",
    "        target_size=(256, 256),\n",
    "        batch_size=val_batchsize,\n",
    "        classes =['Black_Measles','Blackrot','Isariopsis',\"MDB_disease\",\"No_disease\",\"Spyder\",\"mildiou\"]\n",
    "        ,\n",
    "        shuffle=False)"
   ]
  },
  {
   "cell_type": "code",
   "execution_count": 12,
   "metadata": {},
   "outputs": [],
   "source": [
    "from classification_models.keras import Classifiers"
   ]
  },
  {
   "cell_type": "code",
   "execution_count": 13,
   "metadata": {},
   "outputs": [],
   "source": [
    "from classification_models.keras import Classifiers\n",
    "from keras.layers import GlobalAveragePooling2D,Flatten\n",
    "from keras.models import Model\n",
    "ResNet34, preprocess_input = Classifiers.get('resnet34')\n",
    "\n",
    "n_classes = 7\n",
    "\n",
    "# build model\n",
    "base_model = ResNet34(input_shape=(256,256,3), weights='imagenet', include_top=False)\n",
    "model =Sequential()\n",
    "model.add(base_model)\n",
    "headModel = model.output\n",
    "\n",
    "headModel = Flatten(name=\"flatten\")(headModel)\n",
    "headModel = Dense(512, activation=\"relu\")(headModel)\n",
    "headModel = Dropout(0.5)(headModel)\n",
    "headModel = Dense(128, activation=\"relu\")(headModel)\n",
    "headModel = Dropout(0.25)(headModel)\n",
    "headModel = Dense(7, activation=\"softmax\")(headModel)\n",
    "model = Model(inputs=model.input, outputs=headModel)\n"
   ]
  },
  {
   "cell_type": "code",
   "execution_count": 14,
   "metadata": {},
   "outputs": [
    {
     "name": "stdout",
     "output_type": "stream",
     "text": [
      "_________________________________________________________________\n",
      "Layer (type)                 Output Shape              Param #   \n",
      "=================================================================\n",
      "model_3_input (InputLayer)   (None, 256, 256, 3)       0         \n",
      "_________________________________________________________________\n",
      "model_3 (Model)              (None, 8, 8, 512)         21302473  \n",
      "_________________________________________________________________\n",
      "flatten (Flatten)            (None, 32768)             0         \n",
      "_________________________________________________________________\n",
      "dense_4 (Dense)              (None, 512)               16777728  \n",
      "_________________________________________________________________\n",
      "dropout_3 (Dropout)          (None, 512)               0         \n",
      "_________________________________________________________________\n",
      "dense_5 (Dense)              (None, 128)               65664     \n",
      "_________________________________________________________________\n",
      "dropout_4 (Dropout)          (None, 128)               0         \n",
      "_________________________________________________________________\n",
      "dense_6 (Dense)              (None, 7)                 903       \n",
      "=================================================================\n",
      "Total params: 38,146,768\n",
      "Trainable params: 38,131,402\n",
      "Non-trainable params: 15,366\n",
      "_________________________________________________________________\n"
     ]
    }
   ],
   "source": [
    "model.summary()"
   ]
  },
  {
   "cell_type": "code",
   "execution_count": 15,
   "metadata": {},
   "outputs": [],
   "source": [
    "opt = SGD(lr=1e-4, momentum=0.9)\n",
    "model.compile(loss=\"categorical_crossentropy\", optimizer=opt,metrics=[\"accuracy\"])"
   ]
  },
  {
   "cell_type": "code",
   "execution_count": 16,
   "metadata": {},
   "outputs": [],
   "source": [
    "# Save the model according to the conditions  \n",
    "from keras.callbacks import ModelCheckpoint, LearningRateScheduler, TensorBoard, EarlyStopping\n",
    "\n",
    "checkpoint = ModelCheckpoint(\"ios.h5\", monitor='loss', verbose=1, save_best_only=True, save_weights_only=False, mode='auto', period=1)\n",
    "\n",
    "early = EarlyStopping(monitor='loss', min_delta=0, patience=10, verbose=1, mode='auto')\n"
   ]
  },
  {
   "cell_type": "code",
   "execution_count": 17,
   "metadata": {},
   "outputs": [
    {
     "name": "stdout",
     "output_type": "stream",
     "text": [
      "Epoch 1/5\n",
      "700/700 [==============================] - 262s 374ms/step - loss: 0.7940 - acc: 0.7290 - val_loss: 0.2966 - val_acc: 0.8896\n",
      "\n",
      "Epoch 00001: loss improved from inf to 0.79405, saving model to ios.h5\n",
      "Epoch 2/5\n",
      "700/700 [==============================] - 259s 370ms/step - loss: 0.2842 - acc: 0.9042 - val_loss: 0.1816 - val_acc: 0.9375\n",
      "\n",
      "Epoch 00002: loss improved from 0.79405 to 0.28421, saving model to ios.h5\n",
      "Epoch 3/5\n",
      "700/700 [==============================] - 264s 377ms/step - loss: 0.2013 - acc: 0.9321 - val_loss: 0.1857 - val_acc: 0.9450\n",
      "\n",
      "Epoch 00003: loss improved from 0.28421 to 0.20125, saving model to ios.h5\n",
      "Epoch 4/5\n",
      "700/700 [==============================] - 265s 379ms/step - loss: 0.1690 - acc: 0.9459 - val_loss: 0.1424 - val_acc: 0.9557\n",
      "\n",
      "Epoch 00004: loss improved from 0.20125 to 0.16897, saving model to ios.h5\n",
      "Epoch 5/5\n",
      "700/700 [==============================] - 258s 369ms/step - loss: 0.1429 - acc: 0.9531 - val_loss: 0.1039 - val_acc: 0.9661\n",
      "\n",
      "Epoch 00005: loss improved from 0.16897 to 0.14286, saving model to ios.h5\n"
     ]
    }
   ],
   "source": [
    "# Train the model\n",
    "history = model.fit_generator(\n",
    "      train_generator,\n",
    "      steps_per_epoch=train_generator.samples/train_generator.batch_size ,epochs=5,\n",
    "      validation_data=validation_generator,\n",
    "      validation_steps=validation_generator.samples/validation_generator.batch_size,\n",
    "      verbose=1, callbacks=([early,checkpoint]))"
   ]
  },
  {
   "cell_type": "markdown",
   "metadata": {},
   "source": [
    "# Converting keras model to coreml"
   ]
  },
  {
   "cell_type": "code",
   "execution_count": 19,
   "metadata": {},
   "outputs": [
    {
     "name": "stdout",
     "output_type": "stream",
     "text": [
      "0 : model_3_input, <keras.engine.input_layer.InputLayer object at 0x7fb283813b38>\n",
      "1 : model_3_bn_data, <keras.layers.normalization.BatchNormalization object at 0x7fb2886785c0>\n",
      "2 : model_3_zero_padding2d_35, <keras.layers.convolutional.ZeroPadding2D object at 0x7fb2886787f0>\n",
      "3 : model_3_conv0, <keras.layers.convolutional.Conv2D object at 0x7fb26c0beda0>\n",
      "4 : model_3_bn0, <keras.layers.normalization.BatchNormalization object at 0x7fb26df4ea90>\n",
      "5 : model_3_relu0, <keras.layers.core.Activation object at 0x7fb26df4ecc0>\n",
      "6 : model_3_zero_padding2d_36, <keras.layers.convolutional.ZeroPadding2D object at 0x7fb26df72a58>\n",
      "7 : model_3_pooling0, <keras.layers.pooling.MaxPooling2D object at 0x7fb26df31358>\n",
      "8 : model_3_stage1_unit1_bn1, <keras.layers.normalization.BatchNormalization object at 0x7fb26deb8f28>\n",
      "9 : model_3_stage1_unit1_relu1, <keras.layers.core.Activation object at 0x7fb26deb8e10>\n",
      "10 : model_3_zero_padding2d_37, <keras.layers.convolutional.ZeroPadding2D object at 0x7fb26de25240>\n",
      "11 : model_3_stage1_unit1_conv1, <keras.layers.convolutional.Conv2D object at 0x7fb26de253c8>\n",
      "12 : model_3_stage1_unit1_bn2, <keras.layers.normalization.BatchNormalization object at 0x7fb26ddb94e0>\n",
      "13 : model_3_stage1_unit1_relu2, <keras.layers.core.Activation object at 0x7fb26ddb9c50>\n",
      "14 : model_3_zero_padding2d_38, <keras.layers.convolutional.ZeroPadding2D object at 0x7fb26dd6c710>\n",
      "15 : model_3_stage1_unit1_conv2, <keras.layers.convolutional.Conv2D object at 0x7fb26dd0fcf8>\n",
      "16 : model_3_stage1_unit1_sc, <keras.layers.convolutional.Conv2D object at 0x7fb26deb8fd0>\n",
      "17 : model_3_add_17, <keras.layers.merge.Add object at 0x7fb26dcbf9b0>\n",
      "18 : model_3_stage1_unit2_bn1, <keras.layers.normalization.BatchNormalization object at 0x7fb26dcbf908>\n",
      "19 : model_3_stage1_unit2_relu1, <keras.layers.core.Activation object at 0x7fb26dcbff28>\n",
      "20 : model_3_zero_padding2d_39, <keras.layers.convolutional.ZeroPadding2D object at 0x7fb26dcbfa20>\n",
      "21 : model_3_stage1_unit2_conv1, <keras.layers.convolutional.Conv2D object at 0x7fb26dc62fd0>\n",
      "22 : model_3_stage1_unit2_bn2, <keras.layers.normalization.BatchNormalization object at 0x7fb26db46198>\n",
      "23 : model_3_stage1_unit2_relu2, <keras.layers.core.Activation object at 0x7fb26db46860>\n",
      "24 : model_3_zero_padding2d_40, <keras.layers.convolutional.ZeroPadding2D object at 0x7fb26db74278>\n",
      "25 : model_3_stage1_unit2_conv2, <keras.layers.convolutional.Conv2D object at 0x7fb26db19908>\n",
      "26 : model_3_add_18, <keras.layers.merge.Add object at 0x7fb26da425c0>\n",
      "27 : model_3_stage1_unit3_bn1, <keras.layers.normalization.BatchNormalization object at 0x7fb26da42518>\n",
      "28 : model_3_stage1_unit3_relu1, <keras.layers.core.Activation object at 0x7fb26da42a20>\n",
      "29 : model_3_zero_padding2d_41, <keras.layers.convolutional.ZeroPadding2D object at 0x7fb26da42630>\n",
      "30 : model_3_stage1_unit3_conv1, <keras.layers.convolutional.Conv2D object at 0x7fb26da662e8>\n",
      "31 : model_3_stage1_unit3_bn2, <keras.layers.normalization.BatchNormalization object at 0x7fb26d9b3c50>\n",
      "32 : model_3_stage1_unit3_relu2, <keras.layers.core.Activation object at 0x7fb26d9b3cc0>\n",
      "33 : model_3_zero_padding2d_42, <keras.layers.convolutional.ZeroPadding2D object at 0x7fb26d9b3dd8>\n",
      "34 : model_3_stage1_unit3_conv2, <keras.layers.convolutional.Conv2D object at 0x7fb26d95edd8>\n",
      "35 : model_3_add_19, <keras.layers.merge.Add object at 0x7fb26d8b0fd0>\n",
      "36 : model_3_stage2_unit1_bn1, <keras.layers.normalization.BatchNormalization object at 0x7fb26d843048>\n",
      "37 : model_3_stage2_unit1_relu1, <keras.layers.core.Activation object at 0x7fb26d843ef0>\n",
      "38 : model_3_zero_padding2d_43, <keras.layers.convolutional.ZeroPadding2D object at 0x7fb26d7f2940>\n",
      "39 : model_3_stage2_unit1_conv1, <keras.layers.convolutional.Conv2D object at 0x7fb26d740a58>\n",
      "40 : model_3_stage2_unit1_bn2, <keras.layers.normalization.BatchNormalization object at 0x7fb26d7507b8>\n",
      "41 : model_3_stage2_unit1_relu2, <keras.layers.core.Activation object at 0x7fb26d750cc0>\n",
      "42 : model_3_zero_padding2d_44, <keras.layers.convolutional.ZeroPadding2D object at 0x7fb26d77b9e8>\n",
      "43 : model_3_stage2_unit1_conv2, <keras.layers.convolutional.Conv2D object at 0x7fb26d739080>\n",
      "44 : model_3_stage2_unit1_sc, <keras.layers.convolutional.Conv2D object at 0x7fb26d843128>\n",
      "45 : model_3_add_20, <keras.layers.merge.Add object at 0x7fb26d64fc88>\n",
      "46 : model_3_stage2_unit2_bn1, <keras.layers.normalization.BatchNormalization object at 0x7fb26d64fbe0>\n",
      "47 : model_3_stage2_unit2_relu1, <keras.layers.core.Activation object at 0x7fb26d64fe80>\n",
      "48 : model_3_zero_padding2d_45, <keras.layers.convolutional.ZeroPadding2D object at 0x7fb26d615160>\n",
      "49 : model_3_stage2_unit2_conv1, <keras.layers.convolutional.Conv2D object at 0x7fb26d6397b8>\n",
      "50 : model_3_stage2_unit2_bn2, <keras.layers.normalization.BatchNormalization object at 0x7fb26d55e470>\n",
      "51 : model_3_stage2_unit2_relu2, <keras.layers.core.Activation object at 0x7fb26d55eb38>\n",
      "52 : model_3_zero_padding2d_46, <keras.layers.convolutional.ZeroPadding2D object at 0x7fb26d5075f8>\n",
      "53 : model_3_stage2_unit2_conv2, <keras.layers.convolutional.Conv2D object at 0x7fb26d530be0>\n",
      "54 : model_3_add_21, <keras.layers.merge.Add object at 0x7fb26c1247f0>\n",
      "55 : model_3_stage2_unit3_bn1, <keras.layers.normalization.BatchNormalization object at 0x7fb26c124f98>\n",
      "56 : model_3_stage2_unit3_relu1, <keras.layers.core.Activation object at 0x7fb26c124ef0>\n",
      "57 : model_3_zero_padding2d_47, <keras.layers.convolutional.ZeroPadding2D object at 0x7fb26c10ff60>\n",
      "58 : model_3_stage2_unit3_conv1, <keras.layers.convolutional.Conv2D object at 0x7fb26c1066d8>\n",
      "59 : model_3_stage2_unit3_bn2, <keras.layers.normalization.BatchNormalization object at 0x7fb26c0edf28>\n",
      "60 : model_3_stage2_unit3_relu2, <keras.layers.core.Activation object at 0x7fb26c0edcc0>\n",
      "61 : model_3_zero_padding2d_48, <keras.layers.convolutional.ZeroPadding2D object at 0x7fb26c0a26a0>\n",
      "62 : model_3_stage2_unit3_conv2, <keras.layers.convolutional.Conv2D object at 0x7fb26c083a20>\n",
      "63 : model_3_add_22, <keras.layers.merge.Add object at 0x7fb26c172550>\n",
      "64 : model_3_stage2_unit4_bn1, <keras.layers.normalization.BatchNormalization object at 0x7fb26c1725f8>\n",
      "65 : model_3_stage2_unit4_relu1, <keras.layers.core.Activation object at 0x7fb26c172160>\n",
      "66 : model_3_zero_padding2d_49, <keras.layers.convolutional.ZeroPadding2D object at 0x7fb26c1724e0>\n",
      "67 : model_3_stage2_unit4_conv1, <keras.layers.convolutional.Conv2D object at 0x7fb26c168f98>\n",
      "68 : model_3_stage2_unit4_bn2, <keras.layers.normalization.BatchNormalization object at 0x7fb26c196630>\n",
      "69 : model_3_stage2_unit4_relu2, <keras.layers.core.Activation object at 0x7fb26c196198>\n",
      "70 : model_3_zero_padding2d_50, <keras.layers.convolutional.ZeroPadding2D object at 0x7fb26c180438>\n",
      "71 : model_3_stage2_unit4_conv2, <keras.layers.convolutional.Conv2D object at 0x7fb26c1ebcc0>\n",
      "72 : model_3_add_23, <keras.layers.merge.Add object at 0x7fb26c238b70>\n",
      "73 : model_3_stage3_unit1_bn1, <keras.layers.normalization.BatchNormalization object at 0x7fb26c238c18>\n",
      "74 : model_3_stage3_unit1_relu1, <keras.layers.core.Activation object at 0x7fb26c2382e8>\n",
      "75 : model_3_zero_padding2d_51, <keras.layers.convolutional.ZeroPadding2D object at 0x7fb26c20f0f0>\n",
      "76 : model_3_stage3_unit1_conv1, <keras.layers.convolutional.Conv2D object at 0x7fb26c265a58>\n",
      "77 : model_3_stage3_unit1_bn2, <keras.layers.normalization.BatchNormalization object at 0x7fb26c251940>\n",
      "78 : model_3_stage3_unit1_relu2, <keras.layers.core.Activation object at 0x7fb26c251438>\n",
      "79 : model_3_zero_padding2d_52, <keras.layers.convolutional.ZeroPadding2D object at 0x7fb26c251c18>\n",
      "80 : model_3_stage3_unit1_conv2, <keras.layers.convolutional.Conv2D object at 0x7fb26c2511d0>\n",
      "81 : model_3_stage3_unit1_sc, <keras.layers.convolutional.Conv2D object at 0x7fb26c238b00>\n",
      "82 : model_3_add_24, <keras.layers.merge.Add object at 0x7fb26c2f3588>\n",
      "83 : model_3_stage3_unit2_bn1, <keras.layers.normalization.BatchNormalization object at 0x7fb26c2f3630>\n",
      "84 : model_3_stage3_unit2_relu1, <keras.layers.core.Activation object at 0x7fb26c2f3128>\n",
      "85 : model_3_zero_padding2d_53, <keras.layers.convolutional.ZeroPadding2D object at 0x7fb26c2f3518>\n",
      "86 : model_3_stage3_unit2_conv1, <keras.layers.convolutional.Conv2D object at 0x7fb26c2de7f0>\n",
      "87 : model_3_stage3_unit2_bn2, <keras.layers.normalization.BatchNormalization object at 0x7fb26c317d68>\n",
      "88 : model_3_stage3_unit2_relu2, <keras.layers.core.Activation object at 0x7fb26c317550>\n",
      "89 : model_3_zero_padding2d_54, <keras.layers.convolutional.ZeroPadding2D object at 0x7fb26c3019e8>\n",
      "90 : model_3_stage3_unit2_conv2, <keras.layers.convolutional.Conv2D object at 0x7fb26c3760b8>\n"
     ]
    },
    {
     "name": "stdout",
     "output_type": "stream",
     "text": [
      "91 : model_3_add_25, <keras.layers.merge.Add object at 0x7fb26c344160>\n",
      "92 : model_3_stage3_unit3_bn1, <keras.layers.normalization.BatchNormalization object at 0x7fb26c344208>\n",
      "93 : model_3_stage3_unit3_relu1, <keras.layers.core.Activation object at 0x7fb26c3442b0>\n",
      "94 : model_3_zero_padding2d_55, <keras.layers.convolutional.ZeroPadding2D object at 0x7fb26c3a4cc0>\n",
      "95 : model_3_stage3_unit3_conv1, <keras.layers.convolutional.Conv2D object at 0x7fb26c39c630>\n",
      "96 : model_3_stage3_unit3_bn2, <keras.layers.normalization.BatchNormalization object at 0x7fb26c3ed278>\n",
      "97 : model_3_stage3_unit3_relu2, <keras.layers.core.Activation object at 0x7fb26c3ed208>\n",
      "98 : model_3_zero_padding2d_56, <keras.layers.convolutional.ZeroPadding2D object at 0x7fb26c3ed0f0>\n",
      "99 : model_3_stage3_unit3_conv2, <keras.layers.convolutional.Conv2D object at 0x7fb26c3d9a20>\n",
      "100 : model_3_add_26, <keras.layers.merge.Add object at 0x7fb26c418550>\n",
      "101 : model_3_stage3_unit4_bn1, <keras.layers.normalization.BatchNormalization object at 0x7fb26c4185c0>\n",
      "102 : model_3_stage3_unit4_relu1, <keras.layers.core.Activation object at 0x7fb26c418048>\n",
      "103 : model_3_zero_padding2d_57, <keras.layers.convolutional.ZeroPadding2D object at 0x7fb26c4186d8>\n",
      "104 : model_3_stage3_unit4_conv1, <keras.layers.convolutional.Conv2D object at 0x7fb26c4026a0>\n",
      "105 : model_3_stage3_unit4_bn2, <keras.layers.normalization.BatchNormalization object at 0x7fb26c441748>\n",
      "106 : model_3_stage3_unit4_relu2, <keras.layers.core.Activation object at 0x7fb26c4411d0>\n",
      "107 : model_3_zero_padding2d_58, <keras.layers.convolutional.ZeroPadding2D object at 0x7fb26c4ad470>\n",
      "108 : model_3_stage3_unit4_conv2, <keras.layers.convolutional.Conv2D object at 0x7fb26c49add8>\n",
      "109 : model_3_add_27, <keras.layers.merge.Add object at 0x7fb26c4eb400>\n",
      "110 : model_3_stage3_unit5_bn1, <keras.layers.normalization.BatchNormalization object at 0x7fb26c4eb048>\n",
      "111 : model_3_stage3_unit5_relu1, <keras.layers.core.Activation object at 0x7fb26c4ebba8>\n",
      "112 : model_3_zero_padding2d_59, <keras.layers.convolutional.ZeroPadding2D object at 0x7fb26c4ebf98>\n",
      "113 : model_3_stage3_unit5_conv1, <keras.layers.convolutional.Conv2D object at 0x7fb26c4e19e8>\n",
      "114 : model_3_stage3_unit5_bn2, <keras.layers.normalization.BatchNormalization object at 0x7fb26c50cd30>\n",
      "115 : model_3_stage3_unit5_relu2, <keras.layers.core.Activation object at 0x7fb26c50c4a8>\n",
      "116 : model_3_zero_padding2d_60, <keras.layers.convolutional.ZeroPadding2D object at 0x7fb26c503908>\n",
      "117 : model_3_stage3_unit5_conv2, <keras.layers.convolutional.Conv2D object at 0x7fb26c577240>\n",
      "118 : model_3_add_28, <keras.layers.merge.Add object at 0x7fb26c548278>\n",
      "119 : model_3_stage3_unit6_bn1, <keras.layers.normalization.BatchNormalization object at 0x7fb26c540550>\n",
      "120 : model_3_stage3_unit6_relu1, <keras.layers.core.Activation object at 0x7fb26c5400b8>\n",
      "121 : model_3_zero_padding2d_61, <keras.layers.convolutional.ZeroPadding2D object at 0x7fb26c5405c0>\n",
      "122 : model_3_stage3_unit6_conv1, <keras.layers.convolutional.Conv2D object at 0x7fb26c5ad978>\n",
      "123 : model_3_stage3_unit6_bn2, <keras.layers.normalization.BatchNormalization object at 0x7fb288835080>\n",
      "124 : model_3_stage3_unit6_relu2, <keras.layers.core.Activation object at 0x7fb2888352e8>\n",
      "125 : model_3_zero_padding2d_62, <keras.layers.convolutional.ZeroPadding2D object at 0x7fb26c5e1828>\n",
      "126 : model_3_stage3_unit6_conv2, <keras.layers.convolutional.Conv2D object at 0x7fb26c5cc780>\n",
      "127 : model_3_add_29, <keras.layers.merge.Add object at 0x7fb26c61d5f8>\n",
      "128 : model_3_stage4_unit1_bn1, <keras.layers.normalization.BatchNormalization object at 0x7fb26c61d6a0>\n",
      "129 : model_3_stage4_unit1_relu1, <keras.layers.core.Activation object at 0x7fb26c61d400>\n",
      "130 : model_3_zero_padding2d_63, <keras.layers.convolutional.ZeroPadding2D object at 0x7fb26c66eb00>\n",
      "131 : model_3_stage4_unit1_conv1, <keras.layers.convolutional.Conv2D object at 0x7fb26c647128>\n",
      "132 : model_3_stage4_unit1_bn2, <keras.layers.normalization.BatchNormalization object at 0x7fb26c63f438>\n",
      "133 : model_3_stage4_unit1_relu2, <keras.layers.core.Activation object at 0x7fb26c63f390>\n",
      "134 : model_3_zero_padding2d_64, <keras.layers.convolutional.ZeroPadding2D object at 0x7fb26c63f278>\n",
      "135 : model_3_stage4_unit1_conv2, <keras.layers.convolutional.Conv2D object at 0x7fb26c6acbe0>\n",
      "136 : model_3_stage4_unit1_sc, <keras.layers.convolutional.Conv2D object at 0x7fb26c60b550>\n",
      "137 : model_3_add_30, <keras.layers.merge.Add object at 0x7fb26c6e8828>\n",
      "138 : model_3_stage4_unit2_bn1, <keras.layers.normalization.BatchNormalization object at 0x7fb26c6e88d0>\n",
      "139 : model_3_stage4_unit2_relu1, <keras.layers.core.Activation object at 0x7fb26c6e8048>\n",
      "140 : model_3_zero_padding2d_65, <keras.layers.convolutional.ZeroPadding2D object at 0x7fb26c6e87b8>\n",
      "141 : model_3_stage4_unit2_conv1, <keras.layers.convolutional.Conv2D object at 0x7fb26c6d73c8>\n",
      "142 : model_3_stage4_unit2_bn2, <keras.layers.normalization.BatchNormalization object at 0x7fb26c711748>\n",
      "143 : model_3_stage4_unit2_relu2, <keras.layers.core.Activation object at 0x7fb26c711160>\n",
      "144 : model_3_zero_padding2d_66, <keras.layers.convolutional.ZeroPadding2D object at 0x7fb26c6ff358>\n",
      "145 : model_3_stage4_unit2_conv2, <keras.layers.convolutional.Conv2D object at 0x7fb26c76bcc0>\n",
      "146 : model_3_add_31, <keras.layers.merge.Add object at 0x7fb26c73dba8>\n",
      "147 : model_3_stage4_unit3_bn1, <keras.layers.normalization.BatchNormalization object at 0x7fb26c73dc50>\n",
      "148 : model_3_stage4_unit3_relu1, <keras.layers.core.Activation object at 0x7fb26c73d320>\n",
      "149 : model_3_zero_padding2d_67, <keras.layers.convolutional.ZeroPadding2D object at 0x7fb26c73db38>\n",
      "150 : model_3_stage4_unit3_conv1, <keras.layers.convolutional.Conv2D object at 0x7fb26c7aabe0>\n",
      "151 : model_3_stage4_unit3_bn2, <keras.layers.normalization.BatchNormalization object at 0x7fb26c7e8668>\n",
      "152 : model_3_stage4_unit3_relu2, <keras.layers.core.Activation object at 0x7fb26c7e8e80>\n",
      "153 : model_3_zero_padding2d_68, <keras.layers.convolutional.ZeroPadding2D object at 0x7fb26c7e84e0>\n",
      "154 : model_3_stage4_unit3_conv2, <keras.layers.convolutional.Conv2D object at 0x7fb26c7e8f98>\n",
      "155 : model_3_add_32, <keras.layers.merge.Add object at 0x7fb283813cc0>\n",
      "156 : model_3_bn1, <keras.layers.normalization.BatchNormalization object at 0x7fb26df4ef28>\n",
      "157 : model_3_relu1, <keras.layers.core.Activation object at 0x7fb28380ab38>\n",
      "158 : flatten, <keras.layers.core.Flatten object at 0x7fb283850358>\n",
      "159 : dense_4, <keras.layers.core.Dense object at 0x7fb28386b550>\n",
      "160 : dense_4__activation__, <keras.layers.core.Activation object at 0x7fb2b1413cf8>\n",
      "161 : dense_5, <keras.layers.core.Dense object at 0x7fb25c30d630>\n",
      "162 : dense_5__activation__, <keras.layers.core.Activation object at 0x7fb2b1413780>\n",
      "163 : dense_6, <keras.layers.core.Dense object at 0x7fb25c31f6d8>\n",
      "164 : dense_6__activation__, <keras.layers.core.Activation object at 0x7fb2b1413c88>\n"
     ]
    }
   ],
   "source": [
    "import coremltools\n",
    "#from keras.models import load_model\n",
    "#model = load_model('../saved_models/resnet18.h5')\n",
    "coreml_model = coremltools.converters.keras.convert(model, input_names=['image'], image_input_names='image', class_labels=['Black_Measles','Blackrot','Isariopsis','MDB_disease','No_disease','Spyder','mildiou'])\n",
    "coreml_model.save('ios2.mlmodel')"
   ]
  },
  {
   "cell_type": "code",
   "execution_count": null,
   "metadata": {},
   "outputs": [],
   "source": []
  }
 ],
 "metadata": {
  "kernelspec": {
   "display_name": "Python 3",
   "language": "python",
   "name": "python3"
  },
  "language_info": {
   "codemirror_mode": {
    "name": "ipython",
    "version": 3
   },
   "file_extension": ".py",
   "mimetype": "text/x-python",
   "name": "python",
   "nbconvert_exporter": "python",
   "pygments_lexer": "ipython3",
   "version": "3.7.1"
  }
 },
 "nbformat": 4,
 "nbformat_minor": 2
}
